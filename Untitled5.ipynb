{
 "cells": [
  {
   "cell_type": "markdown",
   "metadata": {},
   "source": [
    "# Методическое пособие для выполнения зачетной работы по дисциплине \"Математические библиотеки и пакеты\""
   ]
  },
  {
   "cell_type": "markdown",
   "metadata": {},
   "source": [
    "Первый шаг выполнения работы - импорт библиотек. В данной работе нам понадобятся следующие библиотеки: "
   ]
  },
  {
   "cell_type": "code",
   "execution_count": 11,
   "metadata": {},
   "outputs": [],
   "source": [
    "import pandas as pd\n",
    "import numpy as np\n",
    "import matplotlib.pyplot as plt\n",
    "from scipy.stats.contingency import expected_freq\n",
    "from scipy import stats\n",
    "import statsmodels.api as sm\n",
    "from sklearn.linear_model import LinearRegression\n",
    "from statsmodels.formula.api import ols\n",
    "%matplotlib inline"
   ]
  },
  {
   "cell_type": "markdown",
   "metadata": {},
   "source": [
    "Примечание: для упрощения и удобства мы вводим специальные обозначения библиотек, например, вместо pandas мы пишем pd и так далее."
   ]
  },
  {
   "cell_type": "markdown",
   "metadata": {},
   "source": [
    "# Вариант 7"
   ]
  },
  {
   "cell_type": "markdown",
   "metadata": {},
   "source": [
    "## Выполните следующие задания:"
   ]
  },
  {
   "cell_type": "markdown",
   "metadata": {},
   "source": [
    "Обработайте статистические данные 100 независимых измерений некоторой физической величины Х.\n",
    "\n",
    "1) Составьте статистическое распределение частот выборки Х.\n",
    "\n",
    "2) Найдите эмпирическую функцию распределения и постройте ее график.\n",
    "\n",
    "3) Постройте полигон и гистограмму относительных частот.\n",
    "\n",
    "4) Вычислите числовые характеристики:\n",
    "\n",
    "• выборочную среднюю;\n",
    "\n",
    "• выборочную дисперсию;\n",
    "\n",
    "• выборочное среднее квадратическое отклонение;\n",
    "\n",
    "• коэффициенты эксцесса и ассиметрии.\n",
    "\n",
    "5) Выдвинув гипотезу о нормальном распределении, проверьте ее критерием согласия Пирсона при уровне значимости а = 0.05.\n",
    "\n",
    "6) Найдите точечные и интервальные оценки параметров распределения (доверительную вероятность принять равной 0.95).\n",
    "\n",
    "7) Сделать регрессионный анализ\n",
    "\n",
    "8) Дисперсионный анализ"
   ]
  },
  {
   "cell_type": "markdown",
   "metadata": {},
   "source": [
    "# Начало работы\n",
    "Перед началом выполнения заданий нужно удостовериться, что файл читается правильно. \n",
    "Стоит отметить, что данные представлены в виде таблицы формата CSV, параметры отделяются друг от друга запятыми, это нужно для более удобного считывания информации.\n",
    "Для этого воспользуемся функцией head(). С её помощью выведем первые 5 строк из таблицы данных."
   ]
  },
  {
   "cell_type": "code",
   "execution_count": 12,
   "metadata": {},
   "outputs": [
    {
     "data": {
      "text/html": [
       "<div>\n",
       "<style scoped>\n",
       "    .dataframe tbody tr th:only-of-type {\n",
       "        vertical-align: middle;\n",
       "    }\n",
       "\n",
       "    .dataframe tbody tr th {\n",
       "        vertical-align: top;\n",
       "    }\n",
       "\n",
       "    .dataframe thead th {\n",
       "        text-align: right;\n",
       "    }\n",
       "</style>\n",
       "<table border=\"1\" class=\"dataframe\">\n",
       "  <thead>\n",
       "    <tr style=\"text-align: right;\">\n",
       "      <th></th>\n",
       "      <th>X</th>\n",
       "      <th>Y</th>\n",
       "    </tr>\n",
       "  </thead>\n",
       "  <tbody>\n",
       "    <tr>\n",
       "      <th>0</th>\n",
       "      <td>170</td>\n",
       "      <td>63</td>\n",
       "    </tr>\n",
       "    <tr>\n",
       "      <th>1</th>\n",
       "      <td>175</td>\n",
       "      <td>67</td>\n",
       "    </tr>\n",
       "    <tr>\n",
       "      <th>2</th>\n",
       "      <td>172</td>\n",
       "      <td>64</td>\n",
       "    </tr>\n",
       "    <tr>\n",
       "      <th>3</th>\n",
       "      <td>181</td>\n",
       "      <td>69</td>\n",
       "    </tr>\n",
       "    <tr>\n",
       "      <th>4</th>\n",
       "      <td>176</td>\n",
       "      <td>75</td>\n",
       "    </tr>\n",
       "  </tbody>\n",
       "</table>\n",
       "</div>"
      ],
      "text/plain": [
       "     X   Y\n",
       "0  170  63\n",
       "1  175  67\n",
       "2  172  64\n",
       "3  181  69\n",
       "4  176  75"
      ]
     },
     "execution_count": 12,
     "metadata": {},
     "output_type": "execute_result"
    }
   ],
   "source": [
    "data=pd.read_csv('data.csv')\n",
    "data.head()"
   ]
  },
  {
   "cell_type": "markdown",
   "metadata": {},
   "source": [
    "## Построим гистограмму распределения. \n",
    "Это нужно для общего представления о наших данных.\n",
    "Для этого воспользуемся функцией hist с выборкой по параметру Х из таблицы - данные роста. Вывод гистограммы осуществляется с помощью функции show()."
   ]
  },
  {
   "cell_type": "code",
   "execution_count": 13,
   "metadata": {},
   "outputs": [
    {
     "data": {
      "image/png": "[encoded data removed]",
      "text/plain": [
       "<matplotlib.figure.Figure at 0x5eac6a0>"
      ]
     },
     "metadata": {},
     "output_type": "display_data"
    }
   ],
   "source": [
    "plt.hist(data['X'],50, normed='True')\n",
    "plt.show()"
   ]
  },
  {
   "cell_type": "markdown",
   "metadata": {},
   "source": [
    "# Статистическое распределение частот выборки"
   ]
  },
  {
   "cell_type": "markdown",
   "metadata": {},
   "source": [
    "Для того, чтобы построить статистическое распределение частот выборки, необходимо сначала определить следующие параметры: \n",
    "## Максимальное значение:"
   ]
  },
  {
   "cell_type": "code",
   "execution_count": 14,
   "metadata": {},
   "outputs": [
    {
     "name": "stdout",
     "output_type": "stream",
     "text": [
      "190\n"
     ]
    }
   ],
   "source": [
    "X_max=max(data['X'])\n",
    "print(X_max)"
   ]
  },
  {
   "cell_type": "markdown",
   "metadata": {},
   "source": [
    "## Минимальное значение:"
   ]
  },
  {
   "cell_type": "code",
   "execution_count": 23,
   "metadata": {},
   "outputs": [
    {
     "name": "stdout",
     "output_type": "stream",
     "text": [
      "148\n"
     ]
    }
   ],
   "source": [
    "X_min=min(data['X'])\n",
    "print(X_min)"
   ]
  },
  {
   "cell_type": "markdown",
   "metadata": {},
   "source": [
    "## Разница между минимумом и максимумом:"
   ]
  },
  {
   "cell_type": "code",
   "execution_count": 16,
   "metadata": {},
   "outputs": [
    {
     "name": "stdout",
     "output_type": "stream",
     "text": [
      "42\n"
     ]
    }
   ],
   "source": [
    "R=X_max-X_min\n",
    "print(R)"
   ]
  },
  {
   "cell_type": "markdown",
   "metadata": {},
   "source": [
    "Теперь разобьем выборку на интервальные отрезки. Во многих источниках для определения “оптимального” числа интервалов можно найти упоминание эвристической формулы Старджесса: $$k=3,31*lgn+1$$ Воспользуемся данной формулой.\n",
    "## Число интервалов:"
   ]
  },
  {
   "cell_type": "code",
   "execution_count": 21,
   "metadata": {},
   "outputs": [
    {
     "name": "stdout",
     "output_type": "stream",
     "text": [
      "8.0\n"
     ]
    }
   ],
   "source": [
    "K=float(round(1.0+3.32*np.log10(100)))\n",
    "print(K)"
   ]
  },
  {
   "cell_type": "markdown",
   "metadata": {},
   "source": [
    "Зная разницу наибольшего и наименьшего элемента выборки, а также число интервалов, мы можем найти шаг, с помощью которого задаются значения интервалов. Шаг находим по формуле: $$h=\\frac{R}{k}$$\n",
    "## Шаг:"
   ]
  },
  {
   "cell_type": "code",
   "execution_count": 22,
   "metadata": {},
   "outputs": [
    {
     "name": "stdout",
     "output_type": "stream",
     "text": [
      "5.25\n"
     ]
    }
   ],
   "source": [
    "H=float(R/K)\n",
    "print(H)"
   ]
  },
  {
   "cell_type": "markdown",
   "metadata": {},
   "source": [
    "Теперь, зная все нужные параметры, можно рассчитать частоты по интервалам."
   ]
  },
  {
   "cell_type": "code",
   "execution_count": 33,
   "metadata": {},
   "outputs": [
    {
     "name": "stdout",
     "output_type": "stream",
     "text": [
      "Частоты по интервалам:\n",
      "[0.01, 0.04, 0.13, 0.36, 0.24, 0.15, 0.03, 0.04]\n"
     ]
    }
   ],
   "source": [
    "def intervals_cumsum(x_min,step,size):\n",
    "    start=x_min\n",
    "    a=[]\n",
    "    b=[]\n",
    "    for i in range(size):\n",
    "        a.append(start)\n",
    "        start+=step\n",
    "        b.append(start)\n",
    "    return a,b\n",
    "\n",
    "def count_values(data,element):\n",
    "    count=0;counts=[]\n",
    "    for item in data['X']:\n",
    "        if item<=element:\n",
    "            count+=1\n",
    "    return count\n",
    "   \n",
    "def counter_in(data,b):\n",
    "    delta=[];f=0\n",
    "    for index in range(len(b)):\n",
    "        first=count_values(data,b[index])-f\n",
    "        delta.append(first)\n",
    "        f+=first\n",
    "    return delta\n",
    "  \n",
    "        \n",
    "def frequences(ni,n):\n",
    "    freq=[]\n",
    "    for item in ni:\n",
    "        freq.append(item/n)\n",
    "    return freq\n",
    "        \n",
    "a,b=intervals_cumsum(X_min,H,int(K))\n",
    "ni=counter_in(data,b)\n",
    "freq=frequences(ni,100.0)\n",
    "print('Частоты по интервалам:')\n",
    "print(freq)"
   ]
  },
  {
   "cell_type": "markdown",
   "metadata": {},
   "source": [
    "Чтобы проверить правильность рассчетов, можно вывести сумму посчитанных частот и убедиться, что сумма равна 1:"
   ]
  },
  {
   "cell_type": "code",
   "execution_count": 34,
   "metadata": {},
   "outputs": [
    {
     "name": "stdout",
     "output_type": "stream",
     "text": [
      "Сумма частот:\n",
      "1.0\n"
     ]
    }
   ],
   "source": [
    "print('Сумма частот:')\n",
    "print(round(sum(freq)))"
   ]
  },
  {
   "cell_type": "markdown",
   "metadata": {},
   "source": [
    "# Построим полигон и гистограмму посчитанных частот\n",
    "Чтобы построить полигон, воспользуемся функцией plot(). Зададим ось х отрезком от 0 до 25 с шагом 8:"
   ]
  },
  {
   "cell_type": "code",
   "execution_count": 37,
   "metadata": {},
   "outputs": [
    {
     "data": {
      "image/png": "[encoded data removed]",
      "text/plain": [
       "<matplotlib.figure.Figure at 0xd27f0f0>"
      ]
     },
     "metadata": {},
     "output_type": "display_data"
    }
   ],
   "source": [
    "x=np.linspace(0,25,8)\n",
    "plt.plot(x,freq)\n",
    "plt.title('Poligon')\n",
    "plt.show()"
   ]
  },
  {
   "cell_type": "markdown",
   "metadata": {},
   "source": [
    "Построим гистограмму, используя функцию hist(), которой уже пользовались ранее:"
   ]
  },
  {
   "cell_type": "code",
   "execution_count": 41,
   "metadata": {},
   "outputs": [
    {
     "data": {
      "image/png": "[encoded data removed]",
      "text/plain": [
       "<matplotlib.figure.Figure at 0xdb3bdd8>"
      ]
     },
     "metadata": {},
     "output_type": "display_data"
    }
   ],
   "source": [
    "plt.hist(x,10,weights=freq)\n",
    "plt.title('Hist')\n",
    "plt.show()"
   ]
  },
  {
   "cell_type": "markdown",
   "metadata": {},
   "source": [
    "# Эмпирическая функция распределения"
   ]
  },
  {
   "cell_type": "markdown",
   "metadata": {},
   "source": [
    "С помощью модуля distributions библиотеки statsmodels построим график функции распределения. Начальное значение оси Х - минимальный элемент выборки, последнее значение - максимальный элемент. "
   ]
  },
  {
   "cell_type": "code",
   "execution_count": 43,
   "metadata": {},
   "outputs": [
    {
     "data": {
      "image/png": "[encoded data removed]",
      "text/plain": [
       "<matplotlib.figure.Figure at 0xcee4f60>"
      ]
     },
     "metadata": {},
     "output_type": "display_data"
    }
   ],
   "source": [
    "graph = sm.distributions.ECDF(data['X'])\n",
    "x = np.linspace(min(data['X']), max(data['X']))\n",
    "y = graph(x)\n",
    "plt.step(x, y)\n",
    "plt.show()"
   ]
  },
  {
   "cell_type": "markdown",
   "metadata": {},
   "source": [
    "# Вычисление числовых характеристик"
   ]
  },
  {
   "cell_type": "markdown",
   "metadata": {},
   "source": [
    "## Мода выборки\n",
    "Мода выборки вычисляется с помощью модуля stats библиотеки scipy. В качестве входных данных используется столбец Х. "
   ]
  },
  {
   "cell_type": "markdown",
   "metadata": {},
   "source": [
    "Модой распределения называется такая величина изучаемого признака, которая в данной совокупности встречается наиболее часто, т.е. один из вариантов признака повторяется чаще, чем все другие."
   ]
  },
  {
   "cell_type": "code",
   "execution_count": 44,
   "metadata": {},
   "outputs": [
    {
     "name": "stdout",
     "output_type": "stream",
     "text": [
      "Мода выборки:\n",
      "ModeResult(mode=array([167], dtype=int64), count=array([10]))\n"
     ]
    }
   ],
   "source": [
    "print(\"Мода выборки:\")\n",
    "\n",
    "print(stats.mode(data['X']))"
   ]
  },
  {
   "cell_type": "markdown",
   "metadata": {},
   "source": [
    "## Медиана\n",
    "Медиана вычисляется с помощью функции median() библиотеки numpy. "
   ]
  },
  {
   "cell_type": "markdown",
   "metadata": {},
   "source": [
    "Медиана - это значение признака, приходящееся на середину ряда, расположенного в порядке возрастания или убывания числовых значений признака."
   ]
  },
  {
   "cell_type": "code",
   "execution_count": 45,
   "metadata": {},
   "outputs": [
    {
     "name": "stdout",
     "output_type": "stream",
     "text": [
      "Медиана:\n",
      "168.5\n"
     ]
    }
   ],
   "source": [
    "print(\"Медиана:\")\n",
    "\n",
    "print(np.median(data['X']))"
   ]
  },
  {
   "cell_type": "markdown",
   "metadata": {},
   "source": [
    "## Среднее значение\n",
    "Среднее значение вычисляется с помощью функции mean() библиотеки numpy. "
   ]
  },
  {
   "cell_type": "code",
   "execution_count": 46,
   "metadata": {},
   "outputs": [
    {
     "name": "stdout",
     "output_type": "stream",
     "text": [
      "Среднее значение:\n",
      "169.37\n"
     ]
    }
   ],
   "source": [
    "print(\"Среднее значение:\")\n",
    "\n",
    "print(np.mean(data['X']))"
   ]
  },
  {
   "cell_type": "markdown",
   "metadata": {},
   "source": [
    "## Дисперсия\n",
    "Дисперсия вычисляется с помощью функции var() библиотеки numpy."
   ]
  },
  {
   "cell_type": "markdown",
   "metadata": {},
   "source": [
    "Если матожидание отражает центр случайной величины, то дисперсия дает характеристику разброса данных вокруг центра. То есть дисперсия - это математическое ожидание отклонений от математического ожидания."
   ]
  },
  {
   "cell_type": "code",
   "execution_count": 47,
   "metadata": {},
   "outputs": [
    {
     "name": "stdout",
     "output_type": "stream",
     "text": [
      "Дисперсия:\n",
      "51.2531\n"
     ]
    }
   ],
   "source": [
    "print(\"Дисперсия:\")\n",
    "\n",
    "print(np.var(data['X']))"
   ]
  },
  {
   "cell_type": "markdown",
   "metadata": {},
   "source": [
    "## Среднее квадратичное отклонение\n",
    "Среднее квадратичное отклонение вычисляется с помощью функции std() библиотеки numpy. "
   ]
  },
  {
   "cell_type": "markdown",
   "metadata": {},
   "source": [
    "Среднеквадратичное отклонение, очевидно, также характеризует меру рассеяния данных, но теперь (в отличие от дисперсии) его можно сравнивать с исходными данными, так как единицы измерения у них одинаковые. "
   ]
  },
  {
   "cell_type": "code",
   "execution_count": 48,
   "metadata": {},
   "outputs": [
    {
     "name": "stdout",
     "output_type": "stream",
     "text": [
      "Среднее квадратичное отклонение:\n",
      "7.15912704176\n"
     ]
    }
   ],
   "source": [
    "print(\"Среднее квадратичное отклонение:\")\n",
    "\n",
    "print(np.std(data['X']))"
   ]
  },
  {
   "cell_type": "markdown",
   "metadata": {},
   "source": [
    "## Коэффициент вариации\n",
    "Среднее квадратическое отклонение дает абсолютную оценку меры разброса. Поэтому чтобы понять, насколько разброс велик относительно самих значений, требуется относительный показатель. Такой показатель называется коэффициентом вариации."
   ]
  },
  {
   "cell_type": "code",
   "execution_count": 56,
   "metadata": {},
   "outputs": [
    {
     "name": "stdout",
     "output_type": "stream",
     "text": [
      "Коэффициент вариации:\n",
      "0.042269156531592716\n"
     ]
    }
   ],
   "source": [
    "print(\"Коэффициент вариации:\")\n",
    "\n",
    "print(stats.variation(data['X']))"
   ]
  },
  {
   "cell_type": "markdown",
   "metadata": {},
   "source": [
    "## Коэффициенты эксцесса и асимметрии\n",
    "Коэффициенты эксцесса и асимметрии вычисляются с помощью функций модуля stats библиотеки scipy.\n"
   ]
  },
  {
   "cell_type": "markdown",
   "metadata": {},
   "source": [
    "Коэффициент эксцесса $\\gamma_1$ — мера остроты пика по сравнению с нормальным распределением: $\\gamma_1=0$ в случае так называемого нормального эксцесса (в силу того, что у нормального распределения тоже $\\gamma_1=0$), $\\gamma_1<0$ в случае дефекта (т.н. отрицательный эксцесс, когда в окрестности моды более низкая и плоская вершина, чем у нормального распределения), $\\gamma_1>0$ в случае эксцесса (т.н. положительный эксцесс, когда в окрестности моды более острый и высокий пик, чем у нормального распределения)."
   ]
  },
  {
   "cell_type": "markdown",
   "metadata": {},
   "source": [
    "Коэффициент асимметрии $\\gamma_2$ — мера асимметричности: $\\gamma_2=0$ в случае симметричности распределения относительно мат.ожидания, $\\gamma_2<0$ в случае левой асимметрии (отн. мат.ожидания левый хвост длиннее правого),  $\\gamma_2>0$ в случае правой асимметрии (отн. мат.ожидания правый хвост длиннее левого)."
   ]
  },
  {
   "cell_type": "code",
   "execution_count": 57,
   "metadata": {},
   "outputs": [
    {
     "name": "stdout",
     "output_type": "stream",
     "text": [
      "\n",
      "Коэффициент эксцесса:\n",
      "0.7303676425\n",
      "\n",
      "Коэффициент асимметрии:\n",
      "0.312019187157\n"
     ]
    }
   ],
   "source": [
    "print(\"\\nКоэффициент эксцесса:\")\n",
    "\n",
    "print(stats.kurtosis(data['X']))\n",
    "\n",
    "print(\"\\nКоэффициент асимметрии:\")\n",
    "\n",
    "print(stats.skew(data['X']))"
   ]
  },
  {
   "cell_type": "markdown",
   "metadata": {},
   "source": [
    "## Нормальность распределения\n",
    "Выполним проверку на нормальность распределения с помощью критерия Колмогорова. Для проверки используем встроенную функцию kstest() модуля stats."
   ]
  },
  {
   "cell_type": "markdown",
   "metadata": {},
   "source": [
    "Классический критерий Колмогорова (иногда говорят Колмогорова-Смирнова) предназначен для проверки простых гипотез о принадлежности анализируемой выборки некоторому полностью известному закону распределения."
   ]
  },
  {
   "cell_type": "code",
   "execution_count": 59,
   "metadata": {},
   "outputs": [
    {
     "name": "stdout",
     "output_type": "stream",
     "text": [
      "Нормальность распределения (Критерий Колмогорова):\n",
      "KstestResult(statistic=1.0, pvalue=0.0)\n"
     ]
    }
   ],
   "source": [
    "print(\"Нормальность распределения (Критерий Колмогорова):\")\n",
    "\n",
    "print(stats.kstest(data['X'], 'norm'))"
   ]
  },
  {
   "cell_type": "markdown",
   "metadata": {},
   "source": [
    "Вывод: Критерий Колмогорова в нашем случае дает 100% результат того, что распределение является нормальным."
   ]
  },
  {
   "cell_type": "code",
   "execution_count": null,
   "metadata": {},
   "outputs": [],
   "source": []
  }
 ],
 "metadata": {
  "kernelspec": {
   "display_name": "Python 2",
   "language": "python",
   "name": "python2"
  }
 },
 "nbformat": 4,
 "nbformat_minor": 2
}
